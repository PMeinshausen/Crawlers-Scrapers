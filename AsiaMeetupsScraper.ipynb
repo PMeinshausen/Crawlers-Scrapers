{
 "metadata": {
  "name": "AsiaMeetupsScraper"
 },
 "nbformat": 3,
 "nbformat_minor": 0,
 "worksheets": [
  {
   "cells": [
    {
     "cell_type": "code",
     "collapsed": false,
     "input": [
      "from selenium import webdriver\n",
      "from selenium.common.exceptions import NoSuchElementException, ElementNotVisibleException\n",
      "import time\n",
      "import pandas as pd\n",
      "import matplotlib.pyplot as plt\n",
      "import numpy as np\n",
      "import brewer2mpl"
     ],
     "language": "python",
     "metadata": {},
     "outputs": [],
     "prompt_number": 535
    },
    {
     "cell_type": "code",
     "collapsed": false,
     "input": [
      "# Set up some better defaults for matplotlib\n",
      "from matplotlib import rcParams\n",
      "\n",
      "#colorbrewer2 Dark2 qualitative color table\n",
      "dark2_colors = brewer2mpl.get_map('Dark2', 'Qualitative', 7).mpl_colors\n",
      "\n",
      "rcParams['figure.figsize'] = (10, 6)\n",
      "rcParams['figure.dpi'] = 150\n",
      "rcParams['axes.color_cycle'] = dark2_colors\n",
      "rcParams['lines.linewidth'] = 2\n",
      "rcParams['axes.facecolor'] = 'white'\n",
      "rcParams['font.size'] = 14\n",
      "rcParams['patch.edgecolor'] = 'white'\n",
      "rcParams['patch.facecolor'] = dark2_colors[0]\n",
      "rcParams['font.family'] = 'StixGeneral'\n",
      "\n",
      "\n",
      "def remove_border(axes=None, top=False, right=False, left=True, bottom=True):\n",
      "    \"\"\"\n",
      "    Minimize chartjunk by stripping out unnecesasry plot borders and axis ticks\n",
      "    \n",
      "    The top/right/left/bottom keywords toggle whether the corresponding plot border is drawn\n",
      "    \"\"\"\n",
      "    ax = axes or plt.gca()\n",
      "    ax.spines['top'].set_visible(top)\n",
      "    ax.spines['right'].set_visible(right)\n",
      "    ax.spines['left'].set_visible(left)\n",
      "    ax.spines['bottom'].set_visible(bottom)\n",
      "    \n",
      "    #turn off all ticks\n",
      "    ax.yaxis.set_ticks_position('none')\n",
      "    ax.xaxis.set_ticks_position('none')\n",
      "    \n",
      "    #now re-enable visibles\n",
      "    if top:\n",
      "        ax.xaxis.tick_top()\n",
      "    if bottom:\n",
      "        ax.xaxis.tick_bottom()\n",
      "    if left:\n",
      "        ax.yaxis.tick_left()\n",
      "    if right:\n",
      "        ax.yaxis.tick_right()"
     ],
     "language": "python",
     "metadata": {},
     "outputs": [],
     "prompt_number": 536
    },
    {
     "cell_type": "code",
     "collapsed": false,
     "input": [
      "browser = webdriver.Firefox()\n",
      "browser.get('http://www.meetup.com')"
     ],
     "language": "python",
     "metadata": {},
     "outputs": [],
     "prompt_number": 159
    },
    {
     "cell_type": "code",
     "collapsed": false,
     "input": [
      "location_list = [\n",
      "                 'Singapore, Singapore',\n",
      "                 'Mumbai, India',\n",
      "                 'Bangalore, India',\n",
      "                 'Delhi, India',\n",
      "                 'Hyderabad, India',\n",
      "                 'Chennai, India',\n",
      "                 'Kuala Lumpur, Malaysia',\n",
      "                 'Bangkok, Thailand',\n",
      "                 'Jakarta, Indonesia',\n",
      "                 'Manila, Philippines',\n",
      "                 'Taipei, Taiwain',\n",
      "                 'Ho Chi Minh City, Vietnam'\n",
      "                 ]\n",
      "                 "
     ],
     "language": "python",
     "metadata": {},
     "outputs": [],
     "prompt_number": 186
    },
    {
     "cell_type": "code",
     "collapsed": false,
     "input": [
      "keyword = browser.find_element_by_id('mainKeywords')\n",
      "keyword.send_keys('Data')\n",
      "\n",
      "distance = browser.find_elements_by_class_name('dropdown-toggle')[2]\n",
      "distance.click()\n",
      "distance_value = browser.find_element_by_xpath(\"//a[@data-copy='25 miles']\")\n",
      "distance_value.click()"
     ],
     "language": "python",
     "metadata": {},
     "outputs": [],
     "prompt_number": 160
    },
    {
     "cell_type": "code",
     "collapsed": false,
     "input": [
      "#data = []\n",
      "for city in range(10, 11):\n",
      "    location = browser.find_elements_by_class_name('dropdown-toggle')[3]\n",
      "    location.click()\n",
      "    location_value = browser.find_element_by_id('locationSearch')\n",
      "    location_value.send_keys(location_list[city])\n",
      "    #location_value.click()\n",
      "    try:\n",
      "        location_answer = browser.find_elements_by_class_name('ui-corner-all')[7]\n",
      "        location_answer.click()\n",
      "    except ElementNotVisibleException:\n",
      "        location_value.submit()\n",
      "    time.sleep(1)\n",
      "    city = location_list[city]\n",
      "    for meetup in range(len(browser.find_elements_by_xpath(\"//h3[@itemprop='name']\"))):\n",
      "        group = browser.find_elements_by_xpath(\"//h3[@itemprop='name']\")[meetup].text\n",
      "        memberCount = browser.find_elements_by_xpath(\"//h4[@class='ellipsize']\")[meetup].text\n",
      "        nextMeetup = browser.find_elements_by_xpath(\"//p[@class='muted small']\")[meetup].text\n",
      "        data.append((city, group, memberCount, nextMeetup))\n",
      "        \n",
      "    "
     ],
     "language": "python",
     "metadata": {},
     "outputs": [],
     "prompt_number": 288
    },
    {
     "cell_type": "code",
     "collapsed": false,
     "input": [
      "df = pd.DataFrame(data)\n",
      "df.columns = (['city', 'group', 'memberCount', 'nextMeetup'])\n"
     ],
     "language": "python",
     "metadata": {},
     "outputs": [],
     "prompt_number": 459
    },
    {
     "cell_type": "code",
     "collapsed": false,
     "input": [
      "df['memberTitle'] = df['memberCount']\n",
      "df['memberCount'] = df['memberCount'].apply(lambda x: str(x.split(' ')[0]).replace(',', ''))\n",
      "df['city'] = df['city'].apply(lambda x: str(x.split(',')[0]))"
     ],
     "language": "python",
     "metadata": {},
     "outputs": [],
     "prompt_number": 460
    },
    {
     "cell_type": "code",
     "collapsed": false,
     "input": [
      "df['memberCount'] = df['memberCount'].apply(lambda x: int(x) if str(x).isdigit() == True else 0)"
     ],
     "language": "python",
     "metadata": {},
     "outputs": [],
     "prompt_number": 461
    },
    {
     "cell_type": "code",
     "collapsed": false,
     "input": [
      "df[df['city']=='Bangalore, India']['memberCount']"
     ],
     "language": "python",
     "metadata": {},
     "outputs": [
      {
       "metadata": {},
       "output_type": "pyout",
       "prompt_number": 462,
       "text": [
        "Series([], name: memberCount, dtype: int64)"
       ]
      }
     ],
     "prompt_number": 462
    },
    {
     "cell_type": "code",
     "collapsed": false,
     "input": [
      "counts = df.groupby(by=['city'])['memberCount'].sum()"
     ],
     "language": "python",
     "metadata": {},
     "outputs": [],
     "prompt_number": 463
    },
    {
     "cell_type": "code",
     "collapsed": false,
     "input": [
      "groupCounts = df.groupby(by=['city'])['group'].count()"
     ],
     "language": "python",
     "metadata": {},
     "outputs": [],
     "prompt_number": 409
    },
    {
     "cell_type": "code",
     "collapsed": false,
     "input": [
      "counts.plot(kind='bar')\n",
      "groupCounts.plot(kind='bar')"
     ],
     "language": "python",
     "metadata": {},
     "outputs": [
      {
       "metadata": {},
       "output_type": "pyout",
       "prompt_number": 417,
       "text": [
        "<matplotlib.axes.AxesSubplot at 0x1070a1790>"
       ]
      }
     ],
     "prompt_number": 417
    },
    {
     "cell_type": "code",
     "collapsed": false,
     "input": [
      "counts.sort()"
     ],
     "language": "python",
     "metadata": {},
     "outputs": [],
     "prompt_number": 541
    },
    {
     "cell_type": "code",
     "collapsed": false,
     "input": [
      "#plt.figure(figsize=(3,8))\n",
      "\n",
      "change = counts.get_values()\n",
      "city = counts.keys()\n",
      "pos = np.arange(len(counts.get_values()))\n",
      "\n",
      "plt.title('Size of Data Meetup Populations in Asian Cities')\n",
      "plt.barh(pos, change)\n",
      "\n",
      "#add the numbers to the side of each bar\n",
      "for p, c, ch in zip(pos, city, change):\n",
      "    plt.annotate('{0:,}'.format(ch), xy=(ch + 100, p + .5), va='center')\n",
      "\n",
      "#cutomize ticks\n",
      "ticks = plt.yticks(pos + .5, city)\n",
      "xt = plt.xticks()[0]\n",
      "plt.xticks(xt, [' '] * len(xt))\n",
      "\n",
      "#minimize chartjunk\n",
      "remove_border(left=False, bottom=False)\n",
      "plt.grid(axis = 'x', color ='white', linestyle='-')\n",
      "\n",
      "'''\n",
      "#set plot limits\n",
      "plt.ylim(pos.max() + 1, pos.min() - 1)\n",
      "plt.xlim(0, 30)\n",
      "'''\n",
      "plt.show()"
     ],
     "language": "python",
     "metadata": {},
     "outputs": [],
     "prompt_number": 562
    },
    {
     "cell_type": "code",
     "collapsed": false,
     "input": [
      "for p, c, ch in zip(pos, city, change):\n",
      "    print '{0:,.2f}'.format(ch)"
     ],
     "language": "python",
     "metadata": {},
     "outputs": [
      {
       "output_type": "stream",
       "stream": "stdout",
       "text": [
        "166.00\n",
        "443.00\n",
        "469.00\n",
        "731.00\n",
        "737.00\n",
        "1,803.00\n",
        "3,075.00\n",
        "3,135.00\n",
        "3,649.00\n",
        "6,515.00\n",
        "9,435.00\n",
        "22,426.00\n"
       ]
      }
     ],
     "prompt_number": 551
    },
    {
     "cell_type": "code",
     "collapsed": false,
     "input": [
      "counts.plot(kind='bar',edgecolor='none')\n",
      "plt.grid(False)\n",
      "plt.xticks(rotation=70) "
     ],
     "language": "python",
     "metadata": {},
     "outputs": [
      {
       "metadata": {},
       "output_type": "pyout",
       "prompt_number": 550,
       "text": [
        "(array([  0.625,   1.625,   2.625,   3.625,   4.625,   5.625,   6.625,\n",
        "         7.625,   8.625,   9.625,  10.625,  11.625]),\n",
        " <a list of 12 Text xticklabel objects>)"
       ]
      }
     ],
     "prompt_number": 550
    },
    {
     "cell_type": "code",
     "collapsed": false,
     "input": [
      "cChart = counts\n",
      "cChart.columns = ['counts']\n",
      "gChart = groupCounts\n",
      "cChart = pd.concat([cChart, gChart], axis=1)\n"
     ],
     "language": "python",
     "metadata": {},
     "outputs": [],
     "prompt_number": 425
    },
    {
     "cell_type": "code",
     "collapsed": false,
     "input": [
      "cChart.plot(kind='bar')"
     ],
     "language": "python",
     "metadata": {},
     "outputs": [
      {
       "metadata": {},
       "output_type": "pyout",
       "prompt_number": 427,
       "text": [
        "<matplotlib.axes.AxesSubplot at 0x107147650>"
       ]
      }
     ],
     "prompt_number": 427
    },
    {
     "cell_type": "code",
     "collapsed": false,
     "input": [
      "this = cChart[0]/cChart[1]\n",
      "this.sort()"
     ],
     "language": "python",
     "metadata": {},
     "outputs": [],
     "prompt_number": 449
    },
    {
     "cell_type": "code",
     "collapsed": false,
     "input": [
      "this"
     ],
     "language": "python",
     "metadata": {},
     "outputs": [
      {
       "metadata": {},
       "output_type": "pyout",
       "prompt_number": 450,
       "text": [
        "city\n",
        "Manila, Philippines           49.222222\n",
        "Bangkok, Thailand             52.214286\n",
        "Ho Chi Minh City, Vietnam     55.333333\n",
        "Jakarta, Indonesia            61.416667\n",
        "Delhi, India                  72.906977\n",
        "Chennai, India                81.954545\n",
        "Mumbai, India                 83.108108\n",
        "Kuala Lumpur, Malaysia        93.800000\n",
        "Singapore, Singapore         158.902439\n",
        "Bangalore, India             224.260000\n",
        "Hyderabad, India             248.289474\n",
        "Taipei, Taiwan               405.444444\n",
        "dtype: float64"
       ]
      }
     ],
     "prompt_number": 450
    },
    {
     "cell_type": "code",
     "collapsed": false,
     "input": [
      "counts"
     ],
     "language": "python",
     "metadata": {},
     "outputs": [
      {
       "metadata": {},
       "output_type": "pyout",
       "prompt_number": 453,
       "text": [
        "city\n",
        "Ho Chi Minh City, Vietnam      166\n",
        "Manila, Philippines            443\n",
        "Kuala Lumpur, Malaysia         469\n",
        "Bangkok, Thailand              731\n",
        "Jakarta, Indonesia             737\n",
        "Chennai, India                1803\n",
        "Mumbai, India                 3075\n",
        "Delhi, India                  3135\n",
        "Taipei, Taiwan                3649\n",
        "Singapore, Singapore          6515\n",
        "Hyderabad, India              9435\n",
        "Bangalore, India             22426\n",
        "Name: memberCount, dtype: int64"
       ]
      }
     ],
     "prompt_number": 453
    },
    {
     "cell_type": "code",
     "collapsed": false,
     "input": [
      "groupCounts.sort()\n",
      "groupCounts"
     ],
     "language": "python",
     "metadata": {},
     "outputs": [
      {
       "metadata": {},
       "output_type": "pyout",
       "prompt_number": 454,
       "text": [
        "city\n",
        "Ho Chi Minh City, Vietnam      3\n",
        "Kuala Lumpur, Malaysia         5\n",
        "Manila, Philippines            9\n",
        "Taipei, Taiwan                 9\n",
        "Jakarta, Indonesia            12\n",
        "Bangkok, Thailand             14\n",
        "Chennai, India                22\n",
        "Mumbai, India                 37\n",
        "Hyderabad, India              38\n",
        "Singapore, Singapore          41\n",
        "Delhi, India                  43\n",
        "Bangalore, India             100\n",
        "dtype: int64"
       ]
      }
     ],
     "prompt_number": 454
    },
    {
     "cell_type": "code",
     "collapsed": false,
     "input": [],
     "language": "python",
     "metadata": {},
     "outputs": [],
     "prompt_number": 142
    },
    {
     "cell_type": "code",
     "collapsed": false,
     "input": [],
     "language": "python",
     "metadata": {},
     "outputs": []
    }
   ],
   "metadata": {}
  }
 ]
}